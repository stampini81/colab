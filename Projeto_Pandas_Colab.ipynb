{
  "cells": [
    {
      "cell_type": "code",
      "metadata": {},
      "source": [
        "# 1. MONTAR O GOOGLE DRIVE\n",
        "from google.colab import drive\n",
        "drive.mount('/content/drive')"
      ],
      "outputs": [],
      "execution_count": null
    },
    {
      "cell_type": "code",
      "metadata": {},
      "source": [
        "# 2. IMPORTAR BIBLIOTECAS\n",
        "import pandas as pd"
      ],
      "outputs": [],
      "execution_count": null
    },
    {
      "cell_type": "code",
      "metadata": {},
      "source": [
        "# 3. CAMINHOS DOS ARQUIVOS (ajuste se necess\u00e1rio)\n",
        "path1 = '/content/drive/MyDrive/sport-activity.csv'\n",
        "path2 = '/content/drive/MyDrive/sport-activity2.csv'\n",
        "path3 = '/content/drive/MyDrive/sport-activity3.csv'"
      ],
      "outputs": [],
      "execution_count": null
    },
    {
      "cell_type": "code",
      "metadata": {},
      "source": [
        "# 4. CARREGAR OS ARQUIVOS CSV\n",
        "df1 = pd.read_csv(path1)\n",
        "df2 = pd.read_csv(path2)\n",
        "df3 = pd.read_csv(path3)"
      ],
      "outputs": [],
      "execution_count": null
    },
    {
      "cell_type": "code",
      "metadata": {},
      "source": [
        "# 5. CONCATENAR TODOS OS DADOS EM UM \u00daNICO DATAFRAME\n",
        "df = pd.concat([df1, df2, df3], ignore_index=True)"
      ],
      "outputs": [],
      "execution_count": null
    },
    {
      "cell_type": "code",
      "metadata": {},
      "source": [
        "# 6. LIMPEZA DE C\u00c9LULAS VAZIAS\n",
        "df = df.dropna()"
      ],
      "outputs": [],
      "execution_count": null
    },
    {
      "cell_type": "code",
      "metadata": {},
      "source": [
        "# 7. (EXEMPLO) SUBSTITUIR VALORES NULOS POR M\u00c9DIA (comente a linha 6 se for usar isso)\n",
        "# df['coluna'] = df['coluna'].fillna(df['coluna'].mean())"
      ],
      "outputs": [],
      "execution_count": null
    },
    {
      "cell_type": "code",
      "metadata": {},
      "source": [
        "# 8. CORRE\u00c7\u00c3O DE VALORES INCORRETOS (exemplo: substituir 450 por 45 na coluna 'Duration')\n",
        "if 'Duration' in df.columns:\n",
        "    df['Duration'] = df['Duration'].replace(450, 45)"
      ],
      "outputs": [],
      "execution_count": null
    },
    {
      "cell_type": "code",
      "metadata": {},
      "source": [
        "# 9. REMO\u00c7\u00c3O DE LINHAS DUPLICADAS\n",
        "df = df.drop_duplicates()"
      ],
      "outputs": [],
      "execution_count": null
    },
    {
      "cell_type": "code",
      "metadata": {},
      "source": [
        "# 10. CONVERS\u00c3O DE FORMATO (ex: coluna 'Date')\n",
        "if 'Date' in df.columns:\n",
        "    df['Date'] = pd.to_datetime(df['Date'], errors='coerce')\n",
        "    df = df.dropna(subset=['Date'])"
      ],
      "outputs": [],
      "execution_count": null
    },
    {
      "cell_type": "code",
      "metadata": {},
      "source": [
        "# 11. AN\u00c1LISE DE CORRELA\u00c7\u00c3O\n",
        "correlacao = df.corr(numeric_only=True)\n",
        "print(\"Correla\u00e7\u00e3o entre colunas num\u00e9ricas:\")\n",
        "print(correlacao)"
      ],
      "outputs": [],
      "execution_count": null
    },
    {
      "cell_type": "code",
      "metadata": {},
      "source": [
        "# 12. VISUALIZAR OS PRIMEIROS REGISTROS\n",
        "df.head()"
      ],
      "outputs": [],
      "execution_count": null
    }
  ],
  "metadata": {
    "kernelspec": {
      "display_name": "Python 3",
      "language": "python",
      "name": "python3"
    },
    "language_info": {
      "name": "python",
      "version": "3.10"
    }
  },
  "nbformat": 4,
  "nbformat_minor": 2
}